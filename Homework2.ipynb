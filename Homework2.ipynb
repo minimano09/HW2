{
 "cells": [
  {
   "cell_type": "markdown",
   "metadata": {},
   "source": [
    "# Homework2\n",
    "\n",
    "### Mandatory Task:\n",
    "You are to solve the first sub-problem: to implement the A-Priori algorithm for finding frequent itemsets with support at least s in a dataset of sales transactions. Remind that support of an itemset is the number of transactions containing the itemset. To test and evaluate your implementation, write a program that uses your A-Priori algorithm implementation to discover frequent itemsets with support at least s in a given dataset of sales transactions."
   ]
  },
  {
   "cell_type": "code",
   "execution_count": null,
   "metadata": {},
   "outputs": [],
   "source": [
    "from pyspark import SparkContext, SparkConf\n",
    "import findspark\n",
    "from itertools import combinations"
   ]
  },
  {
   "cell_type": "code",
   "execution_count": 2,
   "metadata": {},
   "outputs": [
    {
     "name": "stderr",
     "output_type": "stream",
     "text": [
      "Setting default log level to \"WARN\".\n",
      "To adjust logging level use sc.setLogLevel(newLevel). For SparkR, use setLogLevel(newLevel).\n"
     ]
    },
    {
     "name": "stdout",
     "output_type": "stream",
     "text": [
      "24/11/12 19:41:59 WARN NativeCodeLoader: Unable to load native-hadoop library for your platform... using builtin-java classes where applicable\n"
     ]
    }
   ],
   "source": [
    "# initializing Spark\n",
    "findspark.init()\n",
    "conf = SparkConf().setAppName(\"FreqItemSets\").setMaster(\"local[*]\")\n",
    "sc = SparkContext(conf=conf)"
   ]
  },
  {
   "cell_type": "code",
   "execution_count": 15,
   "metadata": {},
   "outputs": [
    {
     "name": "stdout",
     "output_type": "stream",
     "text": [
      "['25', '52', '164', '240', '274', '328', '368', '448', '538', '561', '630', '687', '730', '775', '825', '834']\n"
     ]
    }
   ],
   "source": [
    "transactions = sc.textFile(\"datasets/transaction_dataset.txt\").map(lambda line: line.strip().split(\" \"))\n",
    "print(transactions.first())"
   ]
  },
  {
   "cell_type": "code",
   "execution_count": 33,
   "metadata": {},
   "outputs": [
    {
     "name": "stdout",
     "output_type": "stream",
     "text": [
      "333.036\n"
     ]
    }
   ],
   "source": [
    "# Parameters:\n",
    "s = 0.022 # support threshold - 0.018 there is 3-itemsets as well, but running time is too much for me\n",
    "num_of_transactions = transactions.count()\n",
    "frequency_threshold = s * num_of_transactions # how many times should the itemset apper to be frequent\n",
    "c = 0.6\n",
    "print(frequency_threshold)"
   ]
  },
  {
   "cell_type": "code",
   "execution_count": 17,
   "metadata": {},
   "outputs": [],
   "source": [
    "def generate_candidates(prev_freq_itemsets, freq_1_itemsets, k):\n",
    "    \"\"\"Generate candidate k-itemsets by pairing (k-1)-itemsets with 1-itemsets.\"\"\"\n",
    "    candidates = set()\n",
    "    \n",
    "    for itemset in prev_freq_itemsets:\n",
    "        for item in freq_1_itemsets:\n",
    "            # Create a new candidate by adding the 1-itemset to the (k-1)-itemset\n",
    "            candidate = itemset | frozenset([item])\n",
    "            \n",
    "            # Only add if the resulting candidate has exactly k items\n",
    "            if len(candidate) == k:\n",
    "                candidates.add(candidate)\n",
    "    \n",
    "    return candidates\n"
   ]
  },
  {
   "cell_type": "code",
   "execution_count": 18,
   "metadata": {},
   "outputs": [],
   "source": [
    "def prune_candidates(candidates, prev_freq_itemsets):\n",
    "    \"\"\"Prune candidate k-itemsets by removing those with infrequent (k-1)-itemset subsets.\"\"\"\n",
    "    pruned_candidates = set()\n",
    "    \n",
    "    for candidate in candidates:\n",
    "        is_valid = True\n",
    "        # Generate all possible (k-1)-itemsets by removing one item at a time\n",
    "        for item in candidate:\n",
    "            subset = candidate - frozenset([item])\n",
    "            # Check if the subset is in the frequent (k-1)-itemsets\n",
    "            if subset not in prev_freq_itemsets:\n",
    "                is_valid = False\n",
    "                break\n",
    "        # If all (k-1)-subsets are frequent, add candidate to the pruned set\n",
    "        if is_valid:\n",
    "            pruned_candidates.add(candidate)\n",
    "    \n",
    "    return pruned_candidates\n"
   ]
  },
  {
   "cell_type": "code",
   "execution_count": 19,
   "metadata": {},
   "outputs": [
    {
     "name": "stdout",
     "output_type": "stream",
     "text": [
      "130\n",
      "{frozenset({'274'}): 395, frozenset({'538'}): 601, frozenset({'825'}): 472, frozenset({'581'}): 459, frozenset({'674'}): 365, frozenset({'854'}): 429, frozenset({'283'}): 660, frozenset({'883'}): 710, frozenset({'966'}): 586, frozenset({'682'}): 676, frozenset({'782'}): 426, frozenset({'947'}): 570, frozenset({'390'}): 386, frozenset({'279'}): 453, frozenset({'675'}): 441, frozenset({'720'}): 591, frozenset({'914'}): 598, frozenset({'217'}): 860, frozenset({'161'}): 353, frozenset({'175'}): 419, frozenset({'571'}): 441, frozenset({'960'}): 378, frozenset({'862'}): 536, frozenset({'579'}): 343, frozenset({'778'}): 394, frozenset({'70'}): 361, frozenset({'204'}): 345, frozenset({'419'}): 758, frozenset({'722'}): 884, frozenset({'526'}): 418, frozenset({'541'}): 550, frozenset({'631'}): 390, frozenset({'780'}): 347, frozenset({'956'}): 557, frozenset({'145'}): 735, frozenset({'676'}): 449, frozenset({'885'}): 473, frozenset({'522'}): 408, frozenset({'12'}): 530, frozenset({'296'}): 360, frozenset({'354'}): 929, frozenset({'548'}): 430, frozenset({'346'}): 533, frozenset({'477'}): 393, frozenset({'829'}): 986, frozenset({'132'}): 427, frozenset({'21'}): 379, frozenset({'54'}): 429, frozenset({'48'}): 395, frozenset({'112'}): 410, frozenset({'140'}): 393, frozenset({'285'}): 395, frozenset({'93'}): 389, frozenset({'69'}): 349, frozenset({'797'}): 409, frozenset({'509'}): 487, frozenset({'598'}): 490, frozenset({'470'}): 594, frozenset({'8'}): 431, frozenset({'413'}): 392, frozenset({'694'}): 422, frozenset({'57'}): 414, frozenset({'752'}): 430, frozenset({'886'}): 452, frozenset({'634'}): 377, frozenset({'368'}): 1219, frozenset({'561'}): 420, frozenset({'775'}): 590, frozenset({'39'}): 643, frozenset({'120'}): 730, frozenset({'205'}): 552, frozenset({'401'}): 560, frozenset({'895'}): 528, frozenset({'937'}): 690, frozenset({'381'}): 448, frozenset({'766'}): 882, frozenset({'569'}): 415, frozenset({'620'}): 353, frozenset({'798'}): 433, frozenset({'350'}): 442, frozenset({'529'}): 1081, frozenset({'71'}): 553, frozenset({'597'}): 404, frozenset({'183'}): 618, frozenset({'276'}): 410, frozenset({'653'}): 390, frozenset({'177'}): 692, frozenset({'795'}): 513, frozenset({'392'}): 365, frozenset({'27'}): 348, frozenset({'78'}): 405, frozenset({'921'}): 385, frozenset({'803'}): 348, frozenset({'523'}): 356, frozenset({'614'}): 430, frozenset({'888'}): 548, frozenset({'944'}): 426, frozenset({'480'}): 367, frozenset({'874'}): 359, frozenset({'151'}): 394, frozenset({'844'}): 421, frozenset({'918'}): 461, frozenset({'788'}): 396, frozenset({'789'}): 646, frozenset({'471'}): 424, frozenset({'487'}): 464, frozenset({'242'}): 347, frozenset({'758'}): 456, frozenset({'617'}): 382, frozenset({'684'}): 833, frozenset({'460'}): 698, frozenset({'919'}): 567, frozenset({'489'}): 510, frozenset({'494'}): 739, frozenset({'362'}): 619, frozenset({'871'}): 431, frozenset({'72'}): 425, frozenset({'32'}): 629, frozenset({'239'}): 388, frozenset({'606'}): 356, frozenset({'236'}): 443, frozenset({'593'}): 386, frozenset({'793'}): 453, frozenset({'692'}): 763, frozenset({'998'}): 454, frozenset({'438'}): 688, frozenset({'75'}): 455, frozenset({'38'}): 354, frozenset({'510'}): 514, frozenset({'661'}): 411}\n"
     ]
    }
   ],
   "source": [
    "freq_itemsets = dict()\n",
    "s_count = dict()\n",
    "\n",
    "item_appear = transactions.flatMap(lambda items: [(item, 1) for item in items]).reduceByKey(lambda x, y: x+y)\n",
    "freq_1_itemsets_tuples = item_appear.filter(lambda item: item[1] >= frequency_threshold).map(lambda item: (frozenset([item[0]]), item[1])).collect()\n",
    "\n",
    "freq_1_itemsets = set()\n",
    "\n",
    "for itemset, count in freq_1_itemsets_tuples:\n",
    "    freq_itemsets.setdefault(1, set()).add(itemset)\n",
    "    s_count[itemset] = count\n",
    "    freq_1_itemsets.update(itemset)\n",
    "\n",
    "print(len(freq_1_itemsets))\n",
    "print(s_count)"
   ]
  },
  {
   "cell_type": "code",
   "execution_count": 23,
   "metadata": {},
   "outputs": [
    {
     "name": "stdout",
     "output_type": "stream",
     "text": [
      "freq_1_itemsets: {'947', '548', '8', '112', '529', '914', '752', '676', '854', '956', '598', '57', '569', '998', '510', '93', '346', '634', '803', '862', '239', '523', '883', '120', '27', '758', '631', '285', '793', '438', '722', '614', '829', '579', '937', '145', '675', '283', '161', '541', '175', '538', '413', '778', '561', '72', '217', '526', '788', '888', '12', '480', '653', '921', '782', '151', '487', '489', '795', '236', '798', '885', '694', '918', '21', '919', '620', '419', '69', '204', '522', '886', '350', '140', '684', '362', '274', '54', '470', '692', '581', '296', '39', '775', '75', '368', '797', '944', '825', '132', '789', '661', '48', '477', '71', '617', '509', '606', '392', '78', '593', '780', '571', '381', '895', '471', '70', '874', '177', '390', '279', '766', '460', '494', '205', '183', '844', '276', '354', '960', '720', '597', '242', '682', '32', '871', '674', '401', '38', '966'}\n"
     ]
    }
   ],
   "source": [
    "print(f\"freq_1_itemsets: {freq_1_itemsets}\")\n",
    "\n",
    "# Convert individual items in freq_1_itemsets to frozensets\n",
    "freq_1_itemsets = set(frozenset([item]) for item in freq_1_itemsets)"
   ]
  },
  {
   "cell_type": "code",
   "execution_count": 21,
   "metadata": {},
   "outputs": [
    {
     "name": "stdout",
     "output_type": "stream",
     "text": [
      "freq_itemsets[k-1]: {frozenset({'921'}), frozenset({'279'}), frozenset({'276'}), frozenset({'775'}), frozenset({'183'}), frozenset({'598'}), frozenset({'177'}), frozenset({'653'}), frozenset({'78'}), frozenset({'120'}), frozenset({'350'}), frozenset({'460'}), frozenset({'682'}), frozenset({'413'}), frozenset({'151'}), frozenset({'541'}), frozenset({'883'}), frozenset({'914'}), frozenset({'140'}), frozenset({'788'}), frozenset({'419'}), frozenset({'825'}), frozenset({'829'}), frozenset({'579'}), frozenset({'895'}), frozenset({'692'}), frozenset({'438'}), frozenset({'38'}), frozenset({'780'}), frozenset({'12'}), frozenset({'27'}), frozenset({'797'}), frozenset({'8'}), frozenset({'844'}), frozenset({'529'}), frozenset({'477'}), frozenset({'48'}), frozenset({'722'}), frozenset({'72'}), frozenset({'480'}), frozenset({'21'}), frozenset({'69'}), frozenset({'471'}), frozenset({'597'}), frozenset({'32'}), frozenset({'217'}), frozenset({'522'}), frozenset({'354'}), frozenset({'93'}), frozenset({'871'}), frozenset({'561'}), frozenset({'606'}), frozenset({'346'}), frozenset({'161'}), frozenset({'885'}), frozenset({'509'}), frozenset({'487'}), frozenset({'614'}), frozenset({'145'}), frozenset({'684'}), frozenset({'175'}), frozenset({'362'}), frozenset({'789'}), frozenset({'538'}), frozenset({'274'}), frozenset({'569'}), frozenset({'205'}), frozenset({'888'}), frozenset({'285'}), frozenset({'510'}), frozenset({'283'}), frozenset({'778'}), frozenset({'960'}), frozenset({'70'}), frozenset({'795'}), frozenset({'112'}), frozenset({'694'}), frozenset({'675'}), frozenset({'239'}), frozenset({'39'}), frozenset({'661'}), frozenset({'620'}), frozenset({'381'}), frozenset({'919'}), frozenset({'956'}), frozenset({'803'}), frozenset({'674'}), frozenset({'998'}), frozenset({'204'}), frozenset({'752'}), frozenset({'937'}), frozenset({'617'}), frozenset({'634'}), frozenset({'854'}), frozenset({'918'}), frozenset({'57'}), frozenset({'571'}), frozenset({'296'}), frozenset({'242'}), frozenset({'470'}), frozenset({'966'}), frozenset({'75'}), frozenset({'71'}), frozenset({'676'}), frozenset({'523'}), frozenset({'526'}), frozenset({'494'}), frozenset({'758'}), frozenset({'489'}), frozenset({'798'}), frozenset({'886'}), frozenset({'947'}), frozenset({'390'}), frozenset({'793'}), frozenset({'782'}), frozenset({'548'}), frozenset({'236'}), frozenset({'54'}), frozenset({'593'}), frozenset({'720'}), frozenset({'368'}), frozenset({'392'}), frozenset({'581'}), frozenset({'874'}), frozenset({'944'}), frozenset({'631'}), frozenset({'132'}), frozenset({'766'}), frozenset({'862'}), frozenset({'401'})}\n",
      "freq_1_itemsets: {'947', '548', '8', '112', '529', '914', '752', '676', '854', '956', '598', '57', '569', '998', '510', '93', '346', '634', '803', '862', '239', '523', '883', '120', '27', '758', '631', '285', '793', '438', '722', '614', '829', '579', '937', '145', '675', '283', '161', '541', '175', '538', '413', '778', '561', '72', '217', '526', '788', '888', '12', '480', '653', '921', '782', '151', '487', '489', '795', '236', '798', '885', '694', '918', '21', '919', '620', '419', '69', '204', '522', '886', '350', '140', '684', '362', '274', '54', '470', '692', '581', '296', '39', '775', '75', '368', '797', '944', '825', '132', '789', '661', '48', '477', '71', '617', '509', '606', '392', '78', '593', '780', '571', '381', '895', '471', '70', '874', '177', '390', '279', '766', '460', '494', '205', '183', '844', '276', '354', '960', '720', '597', '242', '682', '32', '871', '674', '401', '38', '966'}\n"
     ]
    }
   ],
   "source": [
    "#freq_k_itemsets = set(frozenset([item]) for item in freq_1_itemsets)\n",
    "#freq_itemsets[1] = freq_k_itemsets\n",
    "\n",
    "print(f\"freq_itemsets[k-1]: {freq_itemsets[k-1]}\")\n",
    "print(f\"freq_1_itemsets: {freq_1_itemsets}\")\n"
   ]
  },
  {
   "cell_type": "code",
   "execution_count": 24,
   "metadata": {},
   "outputs": [],
   "source": [
    "k=2\n",
    "\n",
    "while True:\n",
    "    candidates_k = generate_candidates(freq_itemsets[k-1], freq_1_itemsets, k)\n",
    "    if not candidates_k:\n",
    "        break\n",
    "    \n",
    "    #Pruning:\n",
    "    candidates_k = prune_candidates(candidates_k, freq_itemsets[k-1])\n",
    "    if not candidates_k:\n",
    "        break\n",
    "    \n",
    "    candidates_k_rdd = sc.parallelize(list(candidates_k)).map(lambda item: (item, 1)) # every element is in (itemset, 1) format\n",
    "    \n",
    "    transaction_k_itemsets = transactions.flatMap(lambda transaction: [frozenset(combo) for combo in combinations(transaction, k)]).map(lambda x: (x, 1)) # contains the subsets as well from candidates_k_rdd in the format (itemset, 1)\n",
    "        \n",
    "    # Join candidate itemsets with transaction itemsets to count support\n",
    "    candidate_counts = candidates_k_rdd.join(transaction_k_itemsets).map(lambda x: (x[0], x[1][0] + x[1][1])).reduceByKey(lambda a, b: a + b)\n",
    "    \n",
    "    freq_k_itemsets = candidate_counts.filter(lambda x: x[1] >= frequency_threshold).map(lambda x: x[0]).collect()\n",
    "        \n",
    "    if not freq_k_itemsets:\n",
    "        break\n",
    "\n",
    "    freq_itemsets[k] = set()\n",
    "    for itemset, count in freq_k_itemsets:\n",
    "        freq_itemsets[k].add(itemset)\n",
    "        s_count[itemset] = count\n",
    "    k += 1"
   ]
  },
  {
   "cell_type": "code",
   "execution_count": 25,
   "metadata": {},
   "outputs": [
    {
     "name": "stdout",
     "output_type": "stream",
     "text": [
      "{1: {frozenset({'921'}), frozenset({'279'}), frozenset({'276'}), frozenset({'775'}), frozenset({'183'}), frozenset({'598'}), frozenset({'177'}), frozenset({'653'}), frozenset({'78'}), frozenset({'120'}), frozenset({'350'}), frozenset({'460'}), frozenset({'682'}), frozenset({'413'}), frozenset({'151'}), frozenset({'541'}), frozenset({'883'}), frozenset({'914'}), frozenset({'140'}), frozenset({'788'}), frozenset({'419'}), frozenset({'825'}), frozenset({'829'}), frozenset({'579'}), frozenset({'895'}), frozenset({'692'}), frozenset({'438'}), frozenset({'38'}), frozenset({'780'}), frozenset({'12'}), frozenset({'27'}), frozenset({'797'}), frozenset({'8'}), frozenset({'844'}), frozenset({'529'}), frozenset({'477'}), frozenset({'48'}), frozenset({'722'}), frozenset({'72'}), frozenset({'480'}), frozenset({'21'}), frozenset({'69'}), frozenset({'471'}), frozenset({'597'}), frozenset({'32'}), frozenset({'217'}), frozenset({'522'}), frozenset({'354'}), frozenset({'93'}), frozenset({'871'}), frozenset({'561'}), frozenset({'606'}), frozenset({'346'}), frozenset({'161'}), frozenset({'885'}), frozenset({'509'}), frozenset({'487'}), frozenset({'614'}), frozenset({'145'}), frozenset({'684'}), frozenset({'175'}), frozenset({'362'}), frozenset({'789'}), frozenset({'538'}), frozenset({'274'}), frozenset({'569'}), frozenset({'205'}), frozenset({'888'}), frozenset({'285'}), frozenset({'510'}), frozenset({'283'}), frozenset({'778'}), frozenset({'960'}), frozenset({'70'}), frozenset({'795'}), frozenset({'112'}), frozenset({'694'}), frozenset({'675'}), frozenset({'239'}), frozenset({'39'}), frozenset({'661'}), frozenset({'620'}), frozenset({'381'}), frozenset({'919'}), frozenset({'956'}), frozenset({'803'}), frozenset({'674'}), frozenset({'998'}), frozenset({'204'}), frozenset({'752'}), frozenset({'937'}), frozenset({'617'}), frozenset({'634'}), frozenset({'854'}), frozenset({'918'}), frozenset({'57'}), frozenset({'571'}), frozenset({'296'}), frozenset({'242'}), frozenset({'470'}), frozenset({'966'}), frozenset({'75'}), frozenset({'71'}), frozenset({'676'}), frozenset({'523'}), frozenset({'526'}), frozenset({'494'}), frozenset({'758'}), frozenset({'489'}), frozenset({'798'}), frozenset({'886'}), frozenset({'947'}), frozenset({'390'}), frozenset({'793'}), frozenset({'782'}), frozenset({'548'}), frozenset({'236'}), frozenset({'54'}), frozenset({'593'}), frozenset({'720'}), frozenset({'368'}), frozenset({'392'}), frozenset({'581'}), frozenset({'874'}), frozenset({'944'}), frozenset({'631'}), frozenset({'132'}), frozenset({'766'}), frozenset({'862'}), frozenset({'401'})}, 2: {'39', '682', '829', '346'}}\n"
     ]
    }
   ],
   "source": [
    "print(freq_itemsets)"
   ]
  },
  {
   "cell_type": "code",
   "execution_count": 29,
   "metadata": {},
   "outputs": [],
   "source": [
    "all_frequent_itemsets = []\n",
    "for size, itemsets in freq_itemsets.items():\n",
    "    for itemset in itemsets:\n",
    "        all_frequent_itemsets.append((frozenset(itemset), size, s_count[itemset]))\n",
    "\n",
    "all_frequent_itemsets = sorted(all_frequent_itemsets, key=lambda x: (x[1], sorted(x[0])))\n"
   ]
  },
  {
   "cell_type": "code",
   "execution_count": 30,
   "metadata": {},
   "outputs": [
    {
     "name": "stdout",
     "output_type": "stream",
     "text": [
      "\n",
      "All Frequent Itemsets:\n",
      "Itemset: {'112'}, Size: 1, Support Count: 410\n",
      "Itemset: {'12'}, Size: 1, Support Count: 530\n",
      "Itemset: {'120'}, Size: 1, Support Count: 730\n",
      "Itemset: {'132'}, Size: 1, Support Count: 427\n",
      "Itemset: {'140'}, Size: 1, Support Count: 393\n",
      "Itemset: {'145'}, Size: 1, Support Count: 735\n",
      "Itemset: {'151'}, Size: 1, Support Count: 394\n",
      "Itemset: {'161'}, Size: 1, Support Count: 353\n",
      "Itemset: {'175'}, Size: 1, Support Count: 419\n",
      "Itemset: {'177'}, Size: 1, Support Count: 692\n",
      "Itemset: {'183'}, Size: 1, Support Count: 618\n",
      "Itemset: {'204'}, Size: 1, Support Count: 345\n",
      "Itemset: {'205'}, Size: 1, Support Count: 552\n",
      "Itemset: {'21'}, Size: 1, Support Count: 379\n",
      "Itemset: {'217'}, Size: 1, Support Count: 860\n",
      "Itemset: {'236'}, Size: 1, Support Count: 443\n",
      "Itemset: {'239'}, Size: 1, Support Count: 388\n",
      "Itemset: {'242'}, Size: 1, Support Count: 347\n",
      "Itemset: {'27'}, Size: 1, Support Count: 348\n",
      "Itemset: {'274'}, Size: 1, Support Count: 395\n",
      "Itemset: {'276'}, Size: 1, Support Count: 410\n",
      "Itemset: {'279'}, Size: 1, Support Count: 453\n",
      "Itemset: {'283'}, Size: 1, Support Count: 660\n",
      "Itemset: {'285'}, Size: 1, Support Count: 395\n",
      "Itemset: {'296'}, Size: 1, Support Count: 360\n",
      "Itemset: {'32'}, Size: 1, Support Count: 629\n",
      "Itemset: {'346'}, Size: 1, Support Count: 533\n",
      "Itemset: {'350'}, Size: 1, Support Count: 442\n",
      "Itemset: {'354'}, Size: 1, Support Count: 929\n",
      "Itemset: {'362'}, Size: 1, Support Count: 619\n",
      "Itemset: {'368'}, Size: 1, Support Count: 1219\n",
      "Itemset: {'38'}, Size: 1, Support Count: 354\n",
      "Itemset: {'381'}, Size: 1, Support Count: 448\n",
      "Itemset: {'39'}, Size: 1, Support Count: 643\n",
      "Itemset: {'390'}, Size: 1, Support Count: 386\n",
      "Itemset: {'392'}, Size: 1, Support Count: 365\n",
      "Itemset: {'401'}, Size: 1, Support Count: 560\n",
      "Itemset: {'413'}, Size: 1, Support Count: 392\n",
      "Itemset: {'419'}, Size: 1, Support Count: 758\n",
      "Itemset: {'438'}, Size: 1, Support Count: 688\n",
      "Itemset: {'460'}, Size: 1, Support Count: 698\n",
      "Itemset: {'470'}, Size: 1, Support Count: 594\n",
      "Itemset: {'471'}, Size: 1, Support Count: 424\n",
      "Itemset: {'477'}, Size: 1, Support Count: 393\n",
      "Itemset: {'48'}, Size: 1, Support Count: 395\n",
      "Itemset: {'480'}, Size: 1, Support Count: 367\n",
      "Itemset: {'487'}, Size: 1, Support Count: 464\n",
      "Itemset: {'489'}, Size: 1, Support Count: 510\n",
      "Itemset: {'494'}, Size: 1, Support Count: 739\n",
      "Itemset: {'509'}, Size: 1, Support Count: 487\n",
      "Itemset: {'510'}, Size: 1, Support Count: 514\n",
      "Itemset: {'522'}, Size: 1, Support Count: 408\n",
      "Itemset: {'523'}, Size: 1, Support Count: 356\n",
      "Itemset: {'526'}, Size: 1, Support Count: 418\n",
      "Itemset: {'529'}, Size: 1, Support Count: 1081\n",
      "Itemset: {'538'}, Size: 1, Support Count: 601\n",
      "Itemset: {'54'}, Size: 1, Support Count: 429\n",
      "Itemset: {'541'}, Size: 1, Support Count: 550\n",
      "Itemset: {'548'}, Size: 1, Support Count: 430\n",
      "Itemset: {'561'}, Size: 1, Support Count: 420\n",
      "Itemset: {'569'}, Size: 1, Support Count: 415\n",
      "Itemset: {'57'}, Size: 1, Support Count: 414\n",
      "Itemset: {'571'}, Size: 1, Support Count: 441\n",
      "Itemset: {'579'}, Size: 1, Support Count: 343\n",
      "Itemset: {'581'}, Size: 1, Support Count: 459\n",
      "Itemset: {'593'}, Size: 1, Support Count: 386\n",
      "Itemset: {'597'}, Size: 1, Support Count: 404\n",
      "Itemset: {'598'}, Size: 1, Support Count: 490\n",
      "Itemset: {'606'}, Size: 1, Support Count: 356\n",
      "Itemset: {'614'}, Size: 1, Support Count: 430\n",
      "Itemset: {'617'}, Size: 1, Support Count: 382\n",
      "Itemset: {'620'}, Size: 1, Support Count: 353\n",
      "Itemset: {'631'}, Size: 1, Support Count: 390\n",
      "Itemset: {'634'}, Size: 1, Support Count: 377\n",
      "Itemset: {'653'}, Size: 1, Support Count: 390\n",
      "Itemset: {'661'}, Size: 1, Support Count: 411\n",
      "Itemset: {'674'}, Size: 1, Support Count: 365\n",
      "Itemset: {'675'}, Size: 1, Support Count: 441\n",
      "Itemset: {'676'}, Size: 1, Support Count: 449\n",
      "Itemset: {'682'}, Size: 1, Support Count: 676\n",
      "Itemset: {'684'}, Size: 1, Support Count: 833\n",
      "Itemset: {'69'}, Size: 1, Support Count: 349\n",
      "Itemset: {'692'}, Size: 1, Support Count: 763\n",
      "Itemset: {'694'}, Size: 1, Support Count: 422\n",
      "Itemset: {'70'}, Size: 1, Support Count: 361\n",
      "Itemset: {'71'}, Size: 1, Support Count: 553\n",
      "Itemset: {'72'}, Size: 1, Support Count: 425\n",
      "Itemset: {'720'}, Size: 1, Support Count: 591\n",
      "Itemset: {'722'}, Size: 1, Support Count: 884\n",
      "Itemset: {'75'}, Size: 1, Support Count: 455\n",
      "Itemset: {'752'}, Size: 1, Support Count: 430\n",
      "Itemset: {'758'}, Size: 1, Support Count: 456\n",
      "Itemset: {'766'}, Size: 1, Support Count: 882\n",
      "Itemset: {'775'}, Size: 1, Support Count: 590\n",
      "Itemset: {'778'}, Size: 1, Support Count: 394\n",
      "Itemset: {'78'}, Size: 1, Support Count: 405\n",
      "Itemset: {'780'}, Size: 1, Support Count: 347\n",
      "Itemset: {'782'}, Size: 1, Support Count: 426\n",
      "Itemset: {'788'}, Size: 1, Support Count: 396\n",
      "Itemset: {'789'}, Size: 1, Support Count: 646\n",
      "Itemset: {'793'}, Size: 1, Support Count: 453\n",
      "Itemset: {'795'}, Size: 1, Support Count: 513\n",
      "Itemset: {'797'}, Size: 1, Support Count: 409\n",
      "Itemset: {'798'}, Size: 1, Support Count: 433\n",
      "Itemset: {'8'}, Size: 1, Support Count: 431\n",
      "Itemset: {'803'}, Size: 1, Support Count: 348\n",
      "Itemset: {'825'}, Size: 1, Support Count: 472\n",
      "Itemset: {'829'}, Size: 1, Support Count: 986\n",
      "Itemset: {'844'}, Size: 1, Support Count: 421\n",
      "Itemset: {'854'}, Size: 1, Support Count: 429\n",
      "Itemset: {'862'}, Size: 1, Support Count: 536\n",
      "Itemset: {'871'}, Size: 1, Support Count: 431\n",
      "Itemset: {'874'}, Size: 1, Support Count: 359\n",
      "Itemset: {'883'}, Size: 1, Support Count: 710\n",
      "Itemset: {'885'}, Size: 1, Support Count: 473\n",
      "Itemset: {'886'}, Size: 1, Support Count: 452\n",
      "Itemset: {'888'}, Size: 1, Support Count: 548\n",
      "Itemset: {'895'}, Size: 1, Support Count: 528\n",
      "Itemset: {'914'}, Size: 1, Support Count: 598\n",
      "Itemset: {'918'}, Size: 1, Support Count: 461\n",
      "Itemset: {'919'}, Size: 1, Support Count: 567\n",
      "Itemset: {'921'}, Size: 1, Support Count: 385\n",
      "Itemset: {'93'}, Size: 1, Support Count: 389\n",
      "Itemset: {'937'}, Size: 1, Support Count: 690\n",
      "Itemset: {'944'}, Size: 1, Support Count: 426\n",
      "Itemset: {'947'}, Size: 1, Support Count: 570\n",
      "Itemset: {'956'}, Size: 1, Support Count: 557\n",
      "Itemset: {'960'}, Size: 1, Support Count: 378\n",
      "Itemset: {'966'}, Size: 1, Support Count: 586\n",
      "Itemset: {'998'}, Size: 1, Support Count: 454\n",
      "Itemset: {'2', '8', '6'}, Size: 2, Support Count: 368\n",
      "Itemset: {'2', '8', '9'}, Size: 2, Support Count: 368\n",
      "Itemset: {'4', '3', '6'}, Size: 2, Support Count: 217\n",
      "Itemset: {'9', '3'}, Size: 2, Support Count: 825\n"
     ]
    }
   ],
   "source": [
    "print(\"\\nAll Frequent Itemsets:\")\n",
    "for itemset, size, count in all_frequent_itemsets:\n",
    "    print(f\"Itemset: {set(itemset)}, Size: {size}, Support Count: {count}\")\n",
    "\n"
   ]
  },
  {
   "cell_type": "markdown",
   "metadata": {},
   "source": [
    "### Association Rule Generation"
   ]
  },
  {
   "cell_type": "code",
   "execution_count": 34,
   "metadata": {},
   "outputs": [],
   "source": [
    "association_rules = []\n",
    "\n",
    "for itemset, size, count in all_frequent_itemsets:\n",
    "    if size < 2:\n",
    "        continue\n",
    "    # Generate all non-empty proper subsets of the itemset\n",
    "    subsets = []\n",
    "    for r in range(1, size):\n",
    "        subsets.extend(combinations(itemset, r))\n",
    "    \n",
    "    # Process each subset to form rules\n",
    "    for subset in subsets:\n",
    "        antecedent = frozenset(subset)\n",
    "        consequent = itemset - antecedent\n",
    "        if not consequent:\n",
    "            continue\n",
    "        # Retrieve support counts\n",
    "        support_itemset = int(count)\n",
    "        support_antecedent = int(s_count.get(antecedent, 0))\n",
    "        if support_antecedent == 0:\n",
    "            continue  # Avoid division by zero\n",
    "        confidence = support_itemset / support_antecedent\n",
    "        if confidence >= c:\n",
    "            association_rules.append((set(antecedent), set(consequent), support_itemset, support_antecedent, confidence))\n",
    "\n"
   ]
  },
  {
   "cell_type": "code",
   "execution_count": 35,
   "metadata": {},
   "outputs": [
    {
     "name": "stdout",
     "output_type": "stream",
     "text": [
      "Rule: {'8'} -> {'2', '6'}, Support(L): 368, Support(A): 431, Confidence: 0.85\n",
      "Rule: {'8'} -> {'2', '9'}, Support(L): 368, Support(A): 431, Confidence: 0.85\n"
     ]
    }
   ],
   "source": [
    "association_rules = sorted(association_rules, key=lambda x: x[4], reverse=True)\n",
    "\n",
    "for antecedent, consequent, support_L, support_A, confidence in association_rules:\n",
    "    print(f\"Rule: {antecedent} -> {consequent}, Support(L): {support_L}, Support(A): {support_A}, Confidence: {confidence:.2f}\")\n"
   ]
  },
  {
   "cell_type": "code",
   "execution_count": null,
   "metadata": {},
   "outputs": [],
   "source": []
  }
 ],
 "metadata": {
  "kernelspec": {
   "display_name": "Python 3",
   "language": "python",
   "name": "python3"
  },
  "language_info": {
   "codemirror_mode": {
    "name": "ipython",
    "version": 3
   },
   "file_extension": ".py",
   "mimetype": "text/x-python",
   "name": "python",
   "nbconvert_exporter": "python",
   "pygments_lexer": "ipython3",
   "version": "3.9.12"
  }
 },
 "nbformat": 4,
 "nbformat_minor": 2
}
